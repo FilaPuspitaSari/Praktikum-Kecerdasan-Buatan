{
  "nbformat": 4,
  "nbformat_minor": 0,
  "metadata": {
    "colab": {
      "provenance": [],
      "authorship_tag": "ABX9TyNYKhP4G4yzPhzhfkGNKpDo",
      "include_colab_link": true
    },
    "kernelspec": {
      "name": "python3",
      "display_name": "Python 3"
    },
    "language_info": {
      "name": "python"
    }
  },
  "cells": [
    {
      "cell_type": "markdown",
      "metadata": {
        "id": "view-in-github",
        "colab_type": "text"
      },
      "source": [
        "<a href=\"https://colab.research.google.com/github/FilaPuspitaSari/Praktikum-Kecerdasan-Buatan/blob/main/DFS_G211220009.ipynb\" target=\"_parent\"><img src=\"https://colab.research.google.com/assets/colab-badge.svg\" alt=\"Open In Colab\"/></a>"
      ]
    },
    {
      "cell_type": "code",
      "execution_count": 1,
      "metadata": {
        "colab": {
          "base_uri": "https://localhost:8080/"
        },
        "id": "JgfVS3g8yuyZ",
        "outputId": "ee478dd8-c21a-42b6-bbf3-f8d908b6132b"
      },
      "outputs": [
        {
          "output_type": "stream",
          "name": "stdout",
          "text": [
            "Masukkan awal: A\n",
            "Masukkan Akhir: Z\n",
            "Mohon maaf node yang kalian pilih tidak ada\n"
          ]
        }
      ],
      "source": [
        "peta = {'A':set(['B']),\n",
        "        'B':set(['C','A']),\n",
        "        'C':set(['H','B','I','D']),\n",
        "        'D':set(['C','E','H','F']),\n",
        "        'E':set(['D']),\n",
        "        'F':set(['D','G']),\n",
        "        'G':set(['F','H']),\n",
        "        'H':set(['L','C','G','D']),\n",
        "        'I':set(['C','J','K']),\n",
        "        'J':set(['I']),\n",
        "        'K':set(['L','I']),\n",
        "        'L':set(['K','H'])}\n",
        "\n",
        "def dfs(graph, mulai, goal):\n",
        "  explored = []\n",
        "  stack = [[mulai]]\n",
        "\n",
        "  if mulai == goal:\n",
        "    return \"Awal adalah Tujuan\"\n",
        "\n",
        "  while stack:\n",
        "    jalur = stack.pop(-1)\n",
        "    node = jalur[-1]\n",
        "\n",
        "    if node not in explored:\n",
        "      neighbours = graph[node]\n",
        "      for neighbour in neighbours:\n",
        "        jalur_baru = list(jalur)\n",
        "        jalur_baru.append(neighbour)\n",
        "        stack.append(neighbour)\n",
        "\n",
        "        if neighbour == goal:\n",
        "          return jalur_baru\n",
        "\n",
        "    return \"Mohon maaf node yang kalian pilih tidak ada\"\n",
        "\n",
        "\n",
        "awal = input(\"Masukkan awal: \")\n",
        "tujuan = input(\"Masukkan Akhir: \")\n",
        "\n",
        "print(dfs(peta, awal, tujuan))"
      ]
    },
    {
      "cell_type": "code",
      "source": [
        "# Definisi struktur graf\n",
        "graph = {\n",
        "    'A': ['B', 'S'],\n",
        "    'B': ['A'],\n",
        "    'S': ['A', 'C'],\n",
        "    'C': ['S', 'D', 'E'],\n",
        "    'D': ['C'],\n",
        "    'E': ['C']\n",
        "}\n",
        "\n",
        "# Fungsi DFS rekursif\n",
        "def dfs(node, visited):\n",
        "    if node not in visited:\n",
        "        print(node, end=' ')\n",
        "        visited.add(node)\n",
        "        for neighbor in graph[node]:\n",
        "            dfs(neighbor, visited)\n",
        "\n",
        "# Memulai DFS dari node 'A'\n",
        "visited_nodes = set()\n",
        "dfs('A', visited_nodes)\n"
      ],
      "metadata": {
        "colab": {
          "base_uri": "https://localhost:8080/"
        },
        "id": "Tkq2KsDnMrz8",
        "outputId": "04d0ea6f-7144-44d8-b779-795f1c639284"
      },
      "execution_count": 2,
      "outputs": [
        {
          "output_type": "stream",
          "name": "stdout",
          "text": [
            "A B S C D E "
          ]
        }
      ]
    }
  ]
}